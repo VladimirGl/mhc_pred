{
 "cells": [
  {
   "cell_type": "code",
   "execution_count": 1,
   "metadata": {
    "collapsed": false
   },
   "outputs": [
    {
     "name": "stdout",
     "output_type": "stream",
     "text": [
      "Populating the interactive namespace from numpy and matplotlib\n"
     ]
    }
   ],
   "source": [
    "%pylab inline"
   ]
  },
  {
   "cell_type": "code",
   "execution_count": 2,
   "metadata": {
    "collapsed": true
   },
   "outputs": [],
   "source": [
    "import pandas\n",
    "import gensim\n",
    "\n",
    "import matplotlib.pyplot as plt\n",
    "import matplotlib\n",
    "\n",
    "from sklearn.cross_validation import train_test_split\n",
    "from sklearn.linear_model import Ridge\n",
    "\n",
    "import numpy as np\n",
    "\n",
    "\n",
    "\n",
    "matplotlib.style.use('ggplot')"
   ]
  },
  {
   "cell_type": "markdown",
   "metadata": {},
   "source": [
    "## 1. Read data"
   ]
  },
  {
   "cell_type": "code",
   "execution_count": 3,
   "metadata": {
    "collapsed": false
   },
   "outputs": [],
   "source": [
    "data_file = \"../data/a0201.log.txt\"\n",
    "\n",
    "data = pandas.read_csv(data_file, sep = ',')"
   ]
  },
  {
   "cell_type": "code",
   "execution_count": 4,
   "metadata": {
    "collapsed": false
   },
   "outputs": [
    {
     "data": {
      "text/html": [
       "<div>\n",
       "<table border=\"1\" class=\"dataframe\">\n",
       "  <thead>\n",
       "    <tr style=\"text-align: right;\">\n",
       "      <th></th>\n",
       "      <th>sequence</th>\n",
       "      <th>length</th>\n",
       "      <th>meas</th>\n",
       "      <th>netmhc</th>\n",
       "      <th>netmhcpan</th>\n",
       "      <th>smmpmbec_cpp</th>\n",
       "    </tr>\n",
       "  </thead>\n",
       "  <tbody>\n",
       "    <tr>\n",
       "      <th>0</th>\n",
       "      <td>AAAFVNQHL</td>\n",
       "      <td>9</td>\n",
       "      <td>0.212593</td>\n",
       "      <td>0.140876</td>\n",
       "      <td>0.104910</td>\n",
       "      <td>0.187482</td>\n",
       "    </tr>\n",
       "    <tr>\n",
       "      <th>1</th>\n",
       "      <td>AAAQGQAPL</td>\n",
       "      <td>9</td>\n",
       "      <td>0.084693</td>\n",
       "      <td>0.200676</td>\n",
       "      <td>0.125553</td>\n",
       "      <td>0.259838</td>\n",
       "    </tr>\n",
       "    <tr>\n",
       "      <th>2</th>\n",
       "      <td>AADSFATSY</td>\n",
       "      <td>9</td>\n",
       "      <td>0.084693</td>\n",
       "      <td>0.051707</td>\n",
       "      <td>0.064689</td>\n",
       "      <td>0.000000</td>\n",
       "    </tr>\n",
       "    <tr>\n",
       "      <th>3</th>\n",
       "      <td>AALGLWLSV</td>\n",
       "      <td>9</td>\n",
       "      <td>0.260051</td>\n",
       "      <td>0.451795</td>\n",
       "      <td>0.516490</td>\n",
       "      <td>0.444772</td>\n",
       "    </tr>\n",
       "    <tr>\n",
       "      <th>4</th>\n",
       "      <td>AALQGGGPP</td>\n",
       "      <td>9</td>\n",
       "      <td>0.000000</td>\n",
       "      <td>0.044471</td>\n",
       "      <td>0.017657</td>\n",
       "      <td>0.000000</td>\n",
       "    </tr>\n",
       "  </tbody>\n",
       "</table>\n",
       "</div>"
      ],
      "text/plain": [
       "    sequence  length      meas    netmhc  netmhcpan  smmpmbec_cpp\n",
       "0  AAAFVNQHL       9  0.212593  0.140876   0.104910      0.187482\n",
       "1  AAAQGQAPL       9  0.084693  0.200676   0.125553      0.259838\n",
       "2  AADSFATSY       9  0.084693  0.051707   0.064689      0.000000\n",
       "3  AALGLWLSV       9  0.260051  0.451795   0.516490      0.444772\n",
       "4  AALQGGGPP       9  0.000000  0.044471   0.017657      0.000000"
      ]
     },
     "execution_count": 4,
     "metadata": {},
     "output_type": "execute_result"
    }
   ],
   "source": [
    "data.head()"
   ]
  },
  {
   "cell_type": "markdown",
   "metadata": {},
   "source": [
    "## 2. To one hot"
   ]
  },
  {
   "cell_type": "code",
   "execution_count": 5,
   "metadata": {
    "collapsed": false
   },
   "outputs": [
    {
     "data": {
      "image/png": "[encoded data removed]",
      "text/plain": [
       "<matplotlib.figure.Figure at 0x106f997d0>"
      ]
     },
     "metadata": {},
     "output_type": "display_data"
    }
   ],
   "source": [
    "indexes = data['sequence'][data['length'] == 9].index\n",
    "#indexes = data.index\n",
    "selected_X = data['sequence'][indexes]\n",
    "selected_y = pandas.DataFrame(data['meas'][indexes])\n",
    "selected_y['netmhc'] = pandas.DataFrame(data['netmhc'][indexes])\n",
    "selected_y['netmhcpan'] = pandas.DataFrame(data['netmhcpan'][indexes])\n",
    "selected_y['smmpmbec_cpp'] = pandas.DataFrame(data['smmpmbec_cpp'][indexes])\n",
    "\n",
    "letters_X = selected_X.apply(list)\n",
    "\n",
    "selected_X = pandas.DataFrame(list(letters_X))\n",
    "selected_X = pandas.get_dummies(selected_X)\n",
    "\n",
    "hh = plt.hist(selected_y['meas'], 50, color = 'blue', alpha = 0.6)"
   ]
  },
  {
   "cell_type": "markdown",
   "metadata": {},
   "source": [
    "## 3. ml stuff"
   ]
  },
  {
   "cell_type": "code",
   "execution_count": 6,
   "metadata": {
    "collapsed": false
   },
   "outputs": [],
   "source": [
    "#normalize output\n",
    "# m = selected_y.mean()\n",
    "# d = selected_y.max() - selected_y.min()\n",
    "# selected_y = (selected_y - m) / d\n",
    "\n",
    "# train/test split\n",
    "random_number = 53\n",
    "X_train, X_test, y_train, y_test = train_test_split(selected_X, selected_y,\n",
    "                                                    test_size = 0.33, random_state = random_number)\n",
    "\n",
    "test_index = y_test.index\n",
    "rss_netmhc = sum((y_test['netmhc'] - y_test['meas'])**2)\n",
    "rss_netmhcpan = sum((y_test['netmhcpan'] - y_test['meas'])**2)\n",
    "rss_smmpmbec_cpp = sum((y_test['smmpmbec_cpp'] - y_test['meas'])**2)"
   ]
  },
  {
   "cell_type": "code",
   "execution_count": 7,
   "metadata": {
    "collapsed": true
   },
   "outputs": [],
   "source": [
    "def ridge_regression(X, y, alpha):\n",
    "    #Fit the model\n",
    "    ridgereg = Ridge(alpha=alpha,normalize=True)\n",
    "    ridgereg.fit(X, y)\n",
    "    y_pred = ridgereg.predict(X)\n",
    "    \n",
    "    #Return the result in pre-defined format\n",
    "    rss = sum((y_pred - y)**2)\n",
    "    return rss, ridgereg.intercept_, ridgereg"
   ]
  },
  {
   "cell_type": "code",
   "execution_count": 8,
   "metadata": {
    "collapsed": false
   },
   "outputs": [],
   "source": [
    "alpha_ridge = [1e-15, 1e-10, 1e-8, 1e-4, 1e-3,1e-2, 1, 5, 10, 20]\n",
    "\n",
    "rss = [0] * 10\n",
    "intercept = [0] * 10\n",
    "predictors = [0] * 10\n",
    "\n",
    "for i in range(10):\n",
    "    rss[i], intercept[i], predictors[i] = ridge_regression(X_train, y_train['meas'], alpha_ridge[i])"
   ]
  },
  {
   "cell_type": "code",
   "execution_count": 9,
   "metadata": {
    "collapsed": false
   },
   "outputs": [
    {
     "name": "stdout",
     "output_type": "stream",
     "text": [
      "----------\n",
      "alpha =  1e-15\n",
      "train rss =  36.0046513133\n",
      "test rss =  23.8430098283\n",
      "----------\n",
      "alpha =  1e-10\n",
      "train rss =  36.0046513133\n",
      "test rss =  23.8430098278\n",
      "----------\n",
      "alpha =  1e-08\n",
      "train rss =  36.0046513133\n",
      "test rss =  23.8430097811\n",
      "----------\n",
      "alpha =  0.0001\n",
      "train rss =  36.0046517382\n",
      "test rss =  23.8425386252\n",
      "----------\n",
      "alpha =  0.001\n",
      "train rss =  36.0046937227\n",
      "test rss =  23.8383262803\n",
      "----------\n",
      "alpha =  0.01\n",
      "train rss =  36.0088124987\n",
      "test rss =  23.7989626813\n",
      "----------\n",
      "alpha =  1\n",
      "train rss =  48.0876908016\n",
      "test rss =  28.3634888714\n",
      "----------\n",
      "alpha =  5\n",
      "train rss =  82.0137824459\n",
      "test rss =  44.3664327716\n",
      "----------\n",
      "alpha =  10\n",
      "train rss =  97.0369732426\n",
      "test rss =  51.4690873302\n",
      "----------\n",
      "alpha =  20\n",
      "train rss =  107.87381552\n",
      "test rss =  56.5722263138\n"
     ]
    }
   ],
   "source": [
    "# predict test data\n",
    "\n",
    "test_rss = [0] * 10\n",
    "for i in range(10):\n",
    "    m_pred = predictors[i]\n",
    "    test_pred = m_pred.predict(X_test)\n",
    "    test_rss[i] = sum((test_pred - y_test['meas'])**2)\n",
    "    \n",
    "    print '-' * 10\n",
    "    print \"alpha = \", alpha_ridge[i]\n",
    "    print \"train rss = \", rss[i]\n",
    "    print \"test rss = \", test_rss[i]\n",
    "    \n",
    "m_pred = predictors[5]\n",
    "test_pred = m_pred.predict(X_test)\n",
    "t_rss = sum((test_pred - y_test['meas'])**2)"
   ]
  },
  {
   "cell_type": "code",
   "execution_count": 10,
   "metadata": {
    "collapsed": false
   },
   "outputs": [
    {
     "name": "stdout",
     "output_type": "stream",
     "text": [
      "netmhc result 17.167122575\n",
      "netmhcpan result 17.6484859848\n",
      "smmpmbec_cpp result 19.922553449\n",
      "our result 23.7989626813\n"
     ]
    }
   ],
   "source": [
    "print \"netmhc result\", rss_netmhc\n",
    "print \"netmhcpan result\", rss_netmhcpan\n",
    "print \"smmpmbec_cpp result\", rss_smmpmbec_cpp\n",
    "print \"our result\", t_rss"
   ]
  }
 ],
 "metadata": {
  "kernelspec": {
   "display_name": "Python 2",
   "language": "python",
   "name": "python2"
  },
  "language_info": {
   "codemirror_mode": {
    "name": "ipython",
    "version": 2
   },
   "file_extension": ".py",
   "mimetype": "text/x-python",
   "name": "python",
   "nbconvert_exporter": "python",
   "pygments_lexer": "ipython2",
   "version": "2.7.10"
  }
 },
 "nbformat": 4,
 "nbformat_minor": 0
}
