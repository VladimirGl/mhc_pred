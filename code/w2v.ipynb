{
 "cells": [
  {
   "cell_type": "code",
   "execution_count": 1,
   "metadata": {
    "collapsed": false
   },
   "outputs": [
    {
     "name": "stdout",
     "output_type": "stream",
     "text": [
      "Populating the interactive namespace from numpy and matplotlib\n"
     ]
    }
   ],
   "source": [
    "%pylab inline"
   ]
  },
  {
   "cell_type": "code",
   "execution_count": 2,
   "metadata": {
    "collapsed": true
   },
   "outputs": [],
   "source": [
    "import pandas\n",
    "import gensim\n",
    "\n",
    "import matplotlib.pyplot as plt\n",
    "import matplotlib\n",
    "\n",
    "from sklearn.cross_validation import train_test_split\n",
    "from sklearn.linear_model import Ridge\n",
    "from sklearn.linear_model import Lasso\n",
    "\n",
    "import numpy as np\n",
    "\n",
    "import xgboost as xgb\n",
    "\n",
    "from sklearn.preprocessing import LabelEncoder\n",
    "\n",
    "matplotlib.style.use('ggplot')"
   ]
  },
  {
   "cell_type": "markdown",
   "metadata": {},
   "source": [
    "## 1. Read and train w2v model"
   ]
  },
  {
   "cell_type": "code",
   "execution_count": 3,
   "metadata": {
    "collapsed": false
   },
   "outputs": [],
   "source": [
    "seq_data_file = \"../data/sequences_spaces.txt\""
   ]
  },
  {
   "cell_type": "code",
   "execution_count": 4,
   "metadata": {
    "collapsed": false
   },
   "outputs": [],
   "source": [
    "sentences = gensim.models.word2vec.LineSentence(seq_data_file)\n",
    "\n",
    "w2v_dim = 20\n",
    "model = gensim.models.Word2Vec(sentences, size = w2v_dim, window = 4, workers = 4, min_count = 10)"
   ]
  },
  {
   "cell_type": "code",
   "execution_count": 5,
   "metadata": {
    "collapsed": false
   },
   "outputs": [],
   "source": [
    "def seq2vec(seq):\n",
    "    return model[list(seq)].flatten()"
   ]
  },
  {
   "cell_type": "markdown",
   "metadata": {},
   "source": [
    "## 2. Read and prepare data"
   ]
  },
  {
   "cell_type": "code",
   "execution_count": 6,
   "metadata": {
    "collapsed": false
   },
   "outputs": [],
   "source": [
    "data_file = \"../data/bdata.log.txt\"\n",
    "\n",
    "data = pandas.read_csv(data_file, sep = ',')"
   ]
  },
  {
   "cell_type": "code",
   "execution_count": 7,
   "metadata": {
    "collapsed": false
   },
   "outputs": [
    {
     "data": {
      "text/plain": [
       "(5231, 180)"
      ]
     },
     "execution_count": 7,
     "metadata": {},
     "output_type": "execute_result"
    }
   ],
   "source": [
    "selected_mhc = 'HLA-A*03:01'\n",
    "\n",
    "indexes = data['mhc'][data['mhc'] == selected_mhc].index\n",
    "indexes = data.iloc[indexes]['mhc'][data['peptide_length'] == 9].index\n",
    "selected_X = list(data['sequence'][indexes].apply(seq2vec))\n",
    "selected_X = pandas.DataFrame(selected_X)\n",
    "\n",
    "selected_y = data['meas'][indexes]\n",
    "\n",
    "selected_X.shape"
   ]
  },
  {
   "cell_type": "markdown",
   "metadata": {},
   "source": [
    "## 3. Learn something"
   ]
  },
  {
   "cell_type": "code",
   "execution_count": 8,
   "metadata": {
    "collapsed": false
   },
   "outputs": [],
   "source": [
    "#normalize output\n",
    "# m = selected_y.mean()\n",
    "# d = selected_y.max() - selected_y.min()\n",
    "# selected_y = (selected_y - m) / d\n",
    "\n",
    "# train/test split\n",
    "random_number = 122222\n",
    "X_train, X_test, y_train, y_test = train_test_split(selected_X, selected_y,\n",
    "                                                    test_size = 0.33, random_state = random_number)"
   ]
  },
  {
   "cell_type": "code",
   "execution_count": 9,
   "metadata": {
    "collapsed": true
   },
   "outputs": [],
   "source": [
    "def ridge_regression(X, y, alpha):\n",
    "    #Fit the model\n",
    "    ridgereg = Ridge(alpha=alpha,normalize=True)\n",
    "    ridgereg.fit(X, y)\n",
    "    y_pred = ridgereg.predict(X).clip(min = 0)\n",
    "    \n",
    "    #Return the result in pre-defined format\n",
    "    rss = sum((y_pred - y)**2)\n",
    "    return rss, ridgereg.intercept_, ridgereg"
   ]
  },
  {
   "cell_type": "code",
   "execution_count": 10,
   "metadata": {
    "collapsed": false
   },
   "outputs": [],
   "source": [
    "alpha_ridge = [0.001, 0.02, 0.03, 0.04, 0.05,0.06, 0.07, 0.08, 0.09, 0.1]\n",
    "\n",
    "rss = [0] * 10\n",
    "intercept = [0] * 10\n",
    "predictors = [0] * 10\n",
    "\n",
    "for i in range(10):\n",
    "    rss[i], intercept[i], predictors[i] = ridge_regression(X_train, y_train, alpha_ridge[i])"
   ]
  },
  {
   "cell_type": "code",
   "execution_count": 11,
   "metadata": {
    "collapsed": false
   },
   "outputs": [
    {
     "name": "stdout",
     "output_type": "stream",
     "text": [
      "----------\n",
      "alpha =  0.001\n",
      "train rss =  85.338397909\n",
      "test rss =  45.1674529172\n",
      "----------\n",
      "alpha =  0.02\n",
      "train rss =  87.9453577513\n",
      "test rss =  46.4631086812\n",
      "----------\n",
      "alpha =  0.03\n",
      "train rss =  88.6244696465\n",
      "test rss =  46.8297443455\n",
      "----------\n",
      "alpha =  0.04\n",
      "train rss =  89.2255203539\n",
      "test rss =  47.1465607452\n",
      "----------\n",
      "alpha =  0.05\n",
      "train rss =  89.7787053698\n",
      "test rss =  47.4282835546\n",
      "----------\n",
      "alpha =  0.06\n",
      "train rss =  90.2956064045\n",
      "test rss =  47.6878320983\n",
      "----------\n",
      "alpha =  0.07\n",
      "train rss =  90.7807748679\n",
      "test rss =  47.9278375591\n",
      "----------\n",
      "alpha =  0.08\n",
      "train rss =  91.2439173339\n",
      "test rss =  48.1515405094\n",
      "----------\n",
      "alpha =  0.09\n",
      "train rss =  91.6887055316\n",
      "test rss =  48.3639328321\n",
      "----------\n",
      "alpha =  0.1\n",
      "train rss =  92.1186360765\n",
      "test rss =  48.5651634263\n"
     ]
    }
   ],
   "source": [
    "# predict test data\n",
    "\n",
    "test_rss = [0] * 10\n",
    "for i in range(10):\n",
    "    m_pred = predictors[i]\n",
    "    test_pred = m_pred.predict(X_test).clip(min = 0)\n",
    "    test_rss[i] = sum((test_pred - y_test)**2)\n",
    "    \n",
    "    print '-' * 10\n",
    "    print \"alpha = \", alpha_ridge[i]\n",
    "    print \"train rss = \", rss[i]\n",
    "    print \"test rss = \", test_rss[i]\n",
    "\n",
    "\n",
    "m_pred = predictors[0]\n",
    "t_pred = m_pred.predict(X_test)"
   ]
  },
  {
   "cell_type": "code",
   "execution_count": 12,
   "metadata": {
    "collapsed": false
   },
   "outputs": [
    {
     "data": {
      "text/html": [
       "<div>\n",
       "<table border=\"1\" class=\"dataframe\">\n",
       "  <thead>\n",
       "    <tr style=\"text-align: right;\">\n",
       "      <th></th>\n",
       "      <th>0</th>\n",
       "    </tr>\n",
       "  </thead>\n",
       "  <tbody>\n",
       "    <tr>\n",
       "      <th>count</th>\n",
       "      <td>1727.000000</td>\n",
       "    </tr>\n",
       "    <tr>\n",
       "      <th>mean</th>\n",
       "      <td>0.253355</td>\n",
       "    </tr>\n",
       "    <tr>\n",
       "      <th>std</th>\n",
       "      <td>0.189435</td>\n",
       "    </tr>\n",
       "    <tr>\n",
       "      <th>min</th>\n",
       "      <td>0.000000</td>\n",
       "    </tr>\n",
       "    <tr>\n",
       "      <th>25%</th>\n",
       "      <td>0.087506</td>\n",
       "    </tr>\n",
       "    <tr>\n",
       "      <th>50%</th>\n",
       "      <td>0.227312</td>\n",
       "    </tr>\n",
       "    <tr>\n",
       "      <th>75%</th>\n",
       "      <td>0.408371</td>\n",
       "    </tr>\n",
       "    <tr>\n",
       "      <th>max</th>\n",
       "      <td>0.756517</td>\n",
       "    </tr>\n",
       "  </tbody>\n",
       "</table>\n",
       "</div>"
      ],
      "text/plain": [
       "                 0\n",
       "count  1727.000000\n",
       "mean      0.253355\n",
       "std       0.189435\n",
       "min       0.000000\n",
       "25%       0.087506\n",
       "50%       0.227312\n",
       "75%       0.408371\n",
       "max       0.756517"
      ]
     },
     "execution_count": 12,
     "metadata": {},
     "output_type": "execute_result"
    }
   ],
   "source": [
    "t_pred = pandas.DataFrame(t_pred)\n",
    "t_pred[t_pred < 0] = 0\n",
    "t_pred.describe()"
   ]
  },
  {
   "cell_type": "code",
   "execution_count": 13,
   "metadata": {
    "collapsed": true
   },
   "outputs": [],
   "source": [
    "t_pred = pandas.DataFrame(t_pred)"
   ]
  },
  {
   "cell_type": "markdown",
   "metadata": {},
   "source": [
    "and so on..."
   ]
  },
  {
   "cell_type": "code",
   "execution_count": 14,
   "metadata": {
    "collapsed": true
   },
   "outputs": [],
   "source": [
    "y_test = pandas.DataFrame(y_test)"
   ]
  },
  {
   "cell_type": "code",
   "execution_count": 15,
   "metadata": {
    "collapsed": false
   },
   "outputs": [],
   "source": [
    "t_pred['1'] = np.array(y_test)"
   ]
  },
  {
   "cell_type": "code",
   "execution_count": 16,
   "metadata": {
    "collapsed": false
   },
   "outputs": [
    {
     "data": {
      "text/html": [
       "<div>\n",
       "<table border=\"1\" class=\"dataframe\">\n",
       "  <thead>\n",
       "    <tr style=\"text-align: right;\">\n",
       "      <th></th>\n",
       "      <th>0</th>\n",
       "      <th>1</th>\n",
       "    </tr>\n",
       "  </thead>\n",
       "  <tbody>\n",
       "    <tr>\n",
       "      <th>0</th>\n",
       "      <td>1.000000</td>\n",
       "      <td>0.774791</td>\n",
       "    </tr>\n",
       "    <tr>\n",
       "      <th>1</th>\n",
       "      <td>0.774791</td>\n",
       "      <td>1.000000</td>\n",
       "    </tr>\n",
       "  </tbody>\n",
       "</table>\n",
       "</div>"
      ],
      "text/plain": [
       "          0         1\n",
       "0  1.000000  0.774791\n",
       "1  0.774791  1.000000"
      ]
     },
     "execution_count": 16,
     "metadata": {},
     "output_type": "execute_result"
    }
   ],
   "source": [
    "t_pred.corr()"
   ]
  }
 ],
 "metadata": {
  "kernelspec": {
   "display_name": "Python 2",
   "language": "python",
   "name": "python2"
  },
  "language_info": {
   "codemirror_mode": {
    "name": "ipython",
    "version": 2
   },
   "file_extension": ".py",
   "mimetype": "text/x-python",
   "name": "python",
   "nbconvert_exporter": "python",
   "pygments_lexer": "ipython2",
   "version": "2.7.10"
  }
 },
 "nbformat": 4,
 "nbformat_minor": 0
}
