{
 "cells": [
  {
   "cell_type": "code",
   "execution_count": 66,
   "metadata": {
    "collapsed": false
   },
   "outputs": [
    {
     "name": "stdout",
     "output_type": "stream",
     "text": [
      "Populating the interactive namespace from numpy and matplotlib\n"
     ]
    }
   ],
   "source": [
    "%pylab inline"
   ]
  },
  {
   "cell_type": "code",
   "execution_count": 68,
   "metadata": {
    "collapsed": false
   },
   "outputs": [],
   "source": [
    "import pandas\n",
    "import gensim\n",
    "\n",
    "import matplotlib.pyplot as plt\n",
    "import matplotlib\n",
    "\n",
    "from sklearn.cross_validation import train_test_split\n",
    "from sklearn.linear_model import Ridge\n",
    "\n",
    "import numpy as np\n",
    "\n",
    "matplotlib.style.use('ggplot')"
   ]
  },
  {
   "cell_type": "markdown",
   "metadata": {},
   "source": [
    "## 1. Read data"
   ]
  },
  {
   "cell_type": "code",
   "execution_count": 69,
   "metadata": {
    "collapsed": false
   },
   "outputs": [],
   "source": [
    "data_file = \"../data/bdata.log.txt\"\n",
    "\n",
    "data = pandas.read_csv(data_file, sep = ',')"
   ]
  },
  {
   "cell_type": "code",
   "execution_count": 70,
   "metadata": {
    "collapsed": false
   },
   "outputs": [
    {
     "data": {
      "text/html": [
       "<div>\n",
       "<table border=\"1\" class=\"dataframe\">\n",
       "  <thead>\n",
       "    <tr style=\"text-align: right;\">\n",
       "      <th></th>\n",
       "      <th>species</th>\n",
       "      <th>mhc</th>\n",
       "      <th>peptide_length</th>\n",
       "      <th>cv</th>\n",
       "      <th>sequence</th>\n",
       "      <th>inequality</th>\n",
       "      <th>meas</th>\n",
       "    </tr>\n",
       "  </thead>\n",
       "  <tbody>\n",
       "    <tr>\n",
       "      <th>0</th>\n",
       "      <td>cow</td>\n",
       "      <td>BoLA-HD6</td>\n",
       "      <td>9</td>\n",
       "      <td>TBD</td>\n",
       "      <td>ALFYKDGKL</td>\n",
       "      <td>=</td>\n",
       "      <td>1.000000</td>\n",
       "    </tr>\n",
       "    <tr>\n",
       "      <th>1</th>\n",
       "      <td>cow</td>\n",
       "      <td>BoLA-HD6</td>\n",
       "      <td>9</td>\n",
       "      <td>TBD</td>\n",
       "      <td>ALYEKKLAL</td>\n",
       "      <td>=</td>\n",
       "      <td>1.000000</td>\n",
       "    </tr>\n",
       "    <tr>\n",
       "      <th>2</th>\n",
       "      <td>cow</td>\n",
       "      <td>BoLA-HD6</td>\n",
       "      <td>9</td>\n",
       "      <td>TBD</td>\n",
       "      <td>AMKDRFQPL</td>\n",
       "      <td>=</td>\n",
       "      <td>0.860543</td>\n",
       "    </tr>\n",
       "    <tr>\n",
       "      <th>3</th>\n",
       "      <td>cow</td>\n",
       "      <td>BoLA-HD6</td>\n",
       "      <td>9</td>\n",
       "      <td>TBD</td>\n",
       "      <td>AQRELFFTL</td>\n",
       "      <td>=</td>\n",
       "      <td>1.000000</td>\n",
       "    </tr>\n",
       "    <tr>\n",
       "      <th>4</th>\n",
       "      <td>cow</td>\n",
       "      <td>BoLA-HD6</td>\n",
       "      <td>9</td>\n",
       "      <td>TBD</td>\n",
       "      <td>FMKVKFEAL</td>\n",
       "      <td>=</td>\n",
       "      <td>0.957914</td>\n",
       "    </tr>\n",
       "  </tbody>\n",
       "</table>\n",
       "</div>"
      ],
      "text/plain": [
       "  species       mhc  peptide_length   cv   sequence inequality      meas\n",
       "0     cow  BoLA-HD6               9  TBD  ALFYKDGKL          =  1.000000\n",
       "1     cow  BoLA-HD6               9  TBD  ALYEKKLAL          =  1.000000\n",
       "2     cow  BoLA-HD6               9  TBD  AMKDRFQPL          =  0.860543\n",
       "3     cow  BoLA-HD6               9  TBD  AQRELFFTL          =  1.000000\n",
       "4     cow  BoLA-HD6               9  TBD  FMKVKFEAL          =  0.957914"
      ]
     },
     "execution_count": 70,
     "metadata": {},
     "output_type": "execute_result"
    }
   ],
   "source": [
    "data.head()"
   ]
  },
  {
   "cell_type": "markdown",
   "metadata": {},
   "source": [
    "## 2. To one hot"
   ]
  },
  {
   "cell_type": "code",
   "execution_count": 71,
   "metadata": {
    "collapsed": false
   },
   "outputs": [
    {
     "data": {
      "text/plain": [
       "(5231, 200)"
      ]
     },
     "execution_count": 71,
     "metadata": {},
     "output_type": "execute_result"
    }
   ],
   "source": [
    "selected_mhc = 'HLA-A*03:01'\n",
    "\n",
    "indexes = data['mhc'][data['mhc'] == selected_mhc].index\n",
    "indexes = data.iloc[indexes]['mhc'][data['peptide_length'] == 9].index\n",
    "#indexes = data.index\n",
    "selected_X = data['sequence'][indexes]\n",
    "selected_y = data['meas'][indexes]\n",
    "\n",
    "letters_X = selected_X.apply(list)\n",
    "\n",
    "selected_X = pandas.DataFrame(list(letters_X))\n",
    "selected_X = pandas.get_dummies(selected_X)\n",
    "\n",
    "XX = selected_X[range(0, 20)].as_matrix() + selected_X[range(20, 40)].as_matrix() + selected_X[range(40, 60)].as_matrix() + selected_X[range(60, 80)].as_matrix() + selected_X[range(80, 100)].as_matrix() + selected_X[range(100, 120)].as_matrix() + selected_X[range(120, 140)].as_matrix() + selected_X[range(140, 160)].as_matrix() + selected_X[range(160, 180)].as_matrix()\n",
    "selected_X = pandas.concat([selected_X, pandas.DataFrame(XX)], axis=1)\n",
    "\n",
    "selected_X.shape"
   ]
  },
  {
   "cell_type": "markdown",
   "metadata": {},
   "source": [
    "## 3. ml stuff"
   ]
  },
  {
   "cell_type": "code",
   "execution_count": 72,
   "metadata": {
    "collapsed": false
   },
   "outputs": [],
   "source": [
    "#normalize output\n",
    "# m = selected_y.mean()\n",
    "# d = selected_y.max() - selected_y.min()\n",
    "# selected_y = (selected_y - m) / d\n",
    "\n",
    "# train/test split\n",
    "random_number = 52\n",
    "X_train, X_test, y_train, y_test = train_test_split(selected_X, selected_y,\n",
    "                                                    test_size = 0.33, random_state = random_number)"
   ]
  },
  {
   "cell_type": "code",
   "execution_count": 73,
   "metadata": {
    "collapsed": true
   },
   "outputs": [],
   "source": [
    "def ridge_regression(X, y, alpha):\n",
    "    #Fit the model\n",
    "    ridgereg = Ridge(alpha=alpha,normalize=True)\n",
    "    ridgereg.fit(X, y)\n",
    "    y_pred = ridgereg.predict(X)\n",
    "    \n",
    "    #Return the result in pre-defined format\n",
    "    rss = sum((y_pred - y)**2)\n",
    "    return rss, ridgereg.intercept_, ridgereg"
   ]
  },
  {
   "cell_type": "code",
   "execution_count": 74,
   "metadata": {
    "collapsed": false
   },
   "outputs": [],
   "source": [
    "alpha_ridge = [1e-15, 1e-10, 1e-8, 1e-4, 1e-3,1e-2]\n",
    "\n",
    "n = 6\n",
    "\n",
    "rss = [0] * n\n",
    "intercept = [0] * n\n",
    "predictors = [0] * n\n",
    "\n",
    "for i in range(n):\n",
    "    rss[i], intercept[i], predictors[i] = ridge_regression(X_train, y_train, alpha_ridge[i])"
   ]
  },
  {
   "cell_type": "code",
   "execution_count": 75,
   "metadata": {
    "collapsed": false
   },
   "outputs": [
    {
     "name": "stdout",
     "output_type": "stream",
     "text": [
      "----------\n",
      "alpha =  1e-15\n",
      "train rss =  88.9680144288\n",
      "test rss =  48.7164963496\n",
      "----------\n",
      "alpha =  1e-10\n",
      "train rss =  88.9680144288\n",
      "test rss =  48.7164963494\n",
      "----------\n",
      "alpha =  1e-08\n",
      "train rss =  88.9680144288\n",
      "test rss =  48.7164963378\n",
      "----------\n",
      "alpha =  0.0001\n",
      "train rss =  88.9680151731\n",
      "test rss =  48.7163790007\n",
      "----------\n",
      "alpha =  0.001\n",
      "train rss =  88.968088723\n",
      "test rss =  48.7153589064\n",
      "----------\n",
      "alpha =  0.01\n",
      "train rss =  88.9753067544\n",
      "test rss =  48.7086515093\n"
     ]
    }
   ],
   "source": [
    "# predict test data\n",
    "\n",
    "test_rss = [0] * n\n",
    "for i in range(n):\n",
    "    m_pred = predictors[i]\n",
    "    test_pred = m_pred.predict(X_test)\n",
    "    test_rss[i] = sum((test_pred - y_test)**2)\n",
    "    \n",
    "    print '-' * 10\n",
    "    print \"alpha = \", alpha_ridge[i]\n",
    "    print \"train rss = \", rss[i]\n",
    "    print \"test rss = \", test_rss[i]\n",
    "    \n",
    "m_pred = predictors[5]\n",
    "test_pred = m_pred.predict(X_test)"
   ]
  },
  {
   "cell_type": "code",
   "execution_count": 76,
   "metadata": {
    "collapsed": true
   },
   "outputs": [],
   "source": [
    "test_pred = pandas.DataFrame(test_pred)"
   ]
  },
  {
   "cell_type": "code",
   "execution_count": 77,
   "metadata": {
    "collapsed": false
   },
   "outputs": [],
   "source": [
    "y_test = pandas.DataFrame(y_test)"
   ]
  },
  {
   "cell_type": "code",
   "execution_count": 78,
   "metadata": {
    "collapsed": false
   },
   "outputs": [],
   "source": [
    "test_pred['1'] = np.array(y_test)"
   ]
  },
  {
   "cell_type": "code",
   "execution_count": 79,
   "metadata": {
    "collapsed": false
   },
   "outputs": [
    {
     "data": {
      "text/html": [
       "<div>\n",
       "<table border=\"1\" class=\"dataframe\">\n",
       "  <thead>\n",
       "    <tr style=\"text-align: right;\">\n",
       "      <th></th>\n",
       "      <th>0</th>\n",
       "      <th>1</th>\n",
       "    </tr>\n",
       "  </thead>\n",
       "  <tbody>\n",
       "    <tr>\n",
       "      <th>0</th>\n",
       "      <td>1.000000</td>\n",
       "      <td>0.757778</td>\n",
       "    </tr>\n",
       "    <tr>\n",
       "      <th>1</th>\n",
       "      <td>0.757778</td>\n",
       "      <td>1.000000</td>\n",
       "    </tr>\n",
       "  </tbody>\n",
       "</table>\n",
       "</div>"
      ],
      "text/plain": [
       "          0         1\n",
       "0  1.000000  0.757778\n",
       "1  0.757778  1.000000"
      ]
     },
     "execution_count": 79,
     "metadata": {},
     "output_type": "execute_result"
    }
   ],
   "source": [
    "test_pred.corr()"
   ]
  },
  {
   "cell_type": "code",
   "execution_count": null,
   "metadata": {
    "collapsed": true
   },
   "outputs": [],
   "source": []
  },
  {
   "cell_type": "code",
   "execution_count": 80,
   "metadata": {
    "collapsed": false
   },
   "outputs": [
    {
     "data": {
      "text/plain": [
       "(array([  3.,   8.,  13.,  11.,  63.,  83.,  15.,   2.,   1.,   1.]),\n",
       " array([-0.20234507, -0.16311412, -0.12388318, -0.08465224, -0.0454213 ,\n",
       "        -0.00619035,  0.03304059,  0.07227153,  0.11150247,  0.15073342,\n",
       "         0.18996436]),\n",
       " <a list of 10 Patch objects>)"
      ]
     },
     "execution_count": 80,
     "metadata": {},
     "output_type": "execute_result"
    },
    {
     "data": {
      "image/png": "[encoded data removed]",
      "text/plain": [
       "<matplotlib.figure.Figure at 0x10de8bcd0>"
      ]
     },
     "metadata": {},
     "output_type": "display_data"
    }
   ],
   "source": [
    "plt.hist(list(m_pred.coef_))"
   ]
  },
  {
   "cell_type": "code",
   "execution_count": null,
   "metadata": {
    "collapsed": true
   },
   "outputs": [],
   "source": []
  }
 ],
 "metadata": {
  "kernelspec": {
   "display_name": "Python 2",
   "language": "python",
   "name": "python2"
  },
  "language_info": {
   "codemirror_mode": {
    "name": "ipython",
    "version": 2
   },
   "file_extension": ".py",
   "mimetype": "text/x-python",
   "name": "python",
   "nbconvert_exporter": "python",
   "pygments_lexer": "ipython2",
   "version": "2.7.10"
  }
 },
 "nbformat": 4,
 "nbformat_minor": 0
}
